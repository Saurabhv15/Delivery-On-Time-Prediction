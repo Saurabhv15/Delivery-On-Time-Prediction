{
 "cells": [
  {
   "cell_type": "code",
   "execution_count": 1,
   "metadata": {
    "colab": {
     "base_uri": "https://localhost:8080/"
    },
    "executionInfo": {
     "elapsed": 9890,
     "status": "ok",
     "timestamp": 1753486398216,
     "user": {
      "displayName": "SAURABH VERMA",
      "userId": "10474746836861260949"
     },
     "user_tz": -330
    },
    "id": "9MSnVt_G7oxq",
    "outputId": "673fb655-a7f4-43cb-b4f0-96a601a12133"
   },
   "outputs": [
    {
     "name": "stdout",
     "output_type": "stream",
     "text": [
      "Defaulting to user installation because normal site-packages is not writeable\n",
      "Requirement already satisfied: streamlit in c:\\users\\saura\\appdata\\roaming\\python\\python313\\site-packages (1.47.1)\n",
      "Requirement already satisfied: altair<6,>=4.0 in c:\\users\\saura\\appdata\\roaming\\python\\python313\\site-packages (from streamlit) (5.5.0)\n",
      "Requirement already satisfied: blinker<2,>=1.5.0 in c:\\users\\saura\\appdata\\roaming\\python\\python313\\site-packages (from streamlit) (1.9.0)\n",
      "Requirement already satisfied: cachetools<7,>=4.0 in c:\\users\\saura\\appdata\\roaming\\python\\python313\\site-packages (from streamlit) (6.1.0)\n",
      "Requirement already satisfied: click<9,>=7.0 in c:\\users\\saura\\appdata\\roaming\\python\\python313\\site-packages (from streamlit) (8.2.1)\n",
      "Requirement already satisfied: numpy<3,>=1.23 in c:\\users\\saura\\appdata\\roaming\\python\\python313\\site-packages (from streamlit) (2.3.2)\n",
      "Requirement already satisfied: packaging<26,>=20 in c:\\users\\saura\\appdata\\roaming\\python\\python313\\site-packages (from streamlit) (25.0)\n",
      "Requirement already satisfied: pandas<3,>=1.4.0 in c:\\users\\saura\\appdata\\roaming\\python\\python313\\site-packages (from streamlit) (2.3.1)\n",
      "Requirement already satisfied: pillow<12,>=7.1.0 in c:\\users\\saura\\appdata\\roaming\\python\\python313\\site-packages (from streamlit) (11.3.0)\n",
      "Requirement already satisfied: protobuf<7,>=3.20 in c:\\users\\saura\\appdata\\roaming\\python\\python313\\site-packages (from streamlit) (6.31.1)\n",
      "Requirement already satisfied: pyarrow>=7.0 in c:\\users\\saura\\appdata\\roaming\\python\\python313\\site-packages (from streamlit) (21.0.0)\n",
      "Requirement already satisfied: requests<3,>=2.27 in c:\\users\\saura\\appdata\\roaming\\python\\python313\\site-packages (from streamlit) (2.32.4)\n",
      "Requirement already satisfied: tenacity<10,>=8.1.0 in c:\\users\\saura\\appdata\\roaming\\python\\python313\\site-packages (from streamlit) (9.1.2)\n",
      "Requirement already satisfied: toml<2,>=0.10.1 in c:\\users\\saura\\appdata\\roaming\\python\\python313\\site-packages (from streamlit) (0.10.2)\n",
      "Requirement already satisfied: typing-extensions<5,>=4.4.0 in c:\\users\\saura\\appdata\\roaming\\python\\python313\\site-packages (from streamlit) (4.14.1)\n",
      "Requirement already satisfied: watchdog<7,>=2.1.5 in c:\\users\\saura\\appdata\\roaming\\python\\python313\\site-packages (from streamlit) (6.0.0)\n",
      "Requirement already satisfied: gitpython!=3.1.19,<4,>=3.0.7 in c:\\users\\saura\\appdata\\roaming\\python\\python313\\site-packages (from streamlit) (3.1.45)\n",
      "Requirement already satisfied: pydeck<1,>=0.8.0b4 in c:\\users\\saura\\appdata\\roaming\\python\\python313\\site-packages (from streamlit) (0.9.1)\n",
      "Requirement already satisfied: tornado!=6.5.0,<7,>=6.0.3 in c:\\users\\saura\\appdata\\roaming\\python\\python313\\site-packages (from streamlit) (6.5.1)\n",
      "Requirement already satisfied: jinja2 in c:\\users\\saura\\appdata\\roaming\\python\\python313\\site-packages (from altair<6,>=4.0->streamlit) (3.1.6)\n",
      "Requirement already satisfied: jsonschema>=3.0 in c:\\users\\saura\\appdata\\roaming\\python\\python313\\site-packages (from altair<6,>=4.0->streamlit) (4.25.0)\n",
      "Requirement already satisfied: narwhals>=1.14.2 in c:\\users\\saura\\appdata\\roaming\\python\\python313\\site-packages (from altair<6,>=4.0->streamlit) (1.48.1)\n",
      "Requirement already satisfied: colorama in c:\\users\\saura\\appdata\\roaming\\python\\python313\\site-packages (from click<9,>=7.0->streamlit) (0.4.6)\n",
      "Requirement already satisfied: gitdb<5,>=4.0.1 in c:\\users\\saura\\appdata\\roaming\\python\\python313\\site-packages (from gitpython!=3.1.19,<4,>=3.0.7->streamlit) (4.0.12)\n",
      "Requirement already satisfied: smmap<6,>=3.0.1 in c:\\users\\saura\\appdata\\roaming\\python\\python313\\site-packages (from gitdb<5,>=4.0.1->gitpython!=3.1.19,<4,>=3.0.7->streamlit) (5.0.2)\n",
      "Requirement already satisfied: python-dateutil>=2.8.2 in c:\\users\\saura\\appdata\\roaming\\python\\python313\\site-packages (from pandas<3,>=1.4.0->streamlit) (2.9.0.post0)\n",
      "Requirement already satisfied: pytz>=2020.1 in c:\\users\\saura\\appdata\\roaming\\python\\python313\\site-packages (from pandas<3,>=1.4.0->streamlit) (2025.2)\n",
      "Requirement already satisfied: tzdata>=2022.7 in c:\\users\\saura\\appdata\\roaming\\python\\python313\\site-packages (from pandas<3,>=1.4.0->streamlit) (2025.2)\n",
      "Requirement already satisfied: charset_normalizer<4,>=2 in c:\\users\\saura\\appdata\\roaming\\python\\python313\\site-packages (from requests<3,>=2.27->streamlit) (3.4.2)\n",
      "Requirement already satisfied: idna<4,>=2.5 in c:\\users\\saura\\appdata\\roaming\\python\\python313\\site-packages (from requests<3,>=2.27->streamlit) (3.10)\n",
      "Requirement already satisfied: urllib3<3,>=1.21.1 in c:\\users\\saura\\appdata\\roaming\\python\\python313\\site-packages (from requests<3,>=2.27->streamlit) (2.5.0)\n",
      "Requirement already satisfied: certifi>=2017.4.17 in c:\\users\\saura\\appdata\\roaming\\python\\python313\\site-packages (from requests<3,>=2.27->streamlit) (2025.7.14)\n",
      "Requirement already satisfied: MarkupSafe>=2.0 in c:\\users\\saura\\appdata\\roaming\\python\\python313\\site-packages (from jinja2->altair<6,>=4.0->streamlit) (3.0.2)\n",
      "Requirement already satisfied: attrs>=22.2.0 in c:\\users\\saura\\appdata\\roaming\\python\\python313\\site-packages (from jsonschema>=3.0->altair<6,>=4.0->streamlit) (25.3.0)\n",
      "Requirement already satisfied: jsonschema-specifications>=2023.03.6 in c:\\users\\saura\\appdata\\roaming\\python\\python313\\site-packages (from jsonschema>=3.0->altair<6,>=4.0->streamlit) (2025.4.1)\n",
      "Requirement already satisfied: referencing>=0.28.4 in c:\\users\\saura\\appdata\\roaming\\python\\python313\\site-packages (from jsonschema>=3.0->altair<6,>=4.0->streamlit) (0.36.2)\n",
      "Requirement already satisfied: rpds-py>=0.7.1 in c:\\users\\saura\\appdata\\roaming\\python\\python313\\site-packages (from jsonschema>=3.0->altair<6,>=4.0->streamlit) (0.26.0)\n",
      "Requirement already satisfied: six>=1.5 in c:\\users\\saura\\appdata\\roaming\\python\\python313\\site-packages (from python-dateutil>=2.8.2->pandas<3,>=1.4.0->streamlit) (1.17.0)\n"
     ]
    }
   ],
   "source": [
    "!pip install streamlit "
   ]
  },
  {
   "cell_type": "code",
   "execution_count": 11,
   "metadata": {
    "colab": {
     "base_uri": "https://localhost:8080/"
    },
    "executionInfo": {
     "elapsed": 61,
     "status": "ok",
     "timestamp": 1753486443556,
     "user": {
      "displayName": "SAURABH VERMA",
      "userId": "10474746836861260949"
     },
     "user_tz": -330
    },
    "id": "cfjBo2437urU",
    "outputId": "c6b7e7ba-f545-4250-98e1-539b78943888"
   },
   "outputs": [
    {
     "name": "stdout",
     "output_type": "stream",
     "text": [
      "Overwriting app.py\n"
     ]
    }
   ],
   "source": [
    "%%writefile app.py\n",
    "import streamlit as st\n",
    "import pandas as pd\n",
    "import joblib\n",
    "import os\n",
    "\n",
    "# Load the model safely\n",
    "model_path = os.path.join(\"Delivery_api\", \"delivery_model.pkl\")\n",
    "model = joblib.load(model_path)\n",
    "\n",
    "st.set_page_config(page_title=\"Delivery On-Time Predictor\", page_icon=\"🚚\", layout=\"centered\")\n",
    "st.title(\"📦 Delivery On-Time Predictor\")\n",
    "\n",
    "# Input features\n",
    "warehouse = st.selectbox(\"Warehouse Block\", ['F', 'A', 'B', 'C', 'D'])\n",
    "mode = st.selectbox(\"Mode of Shipment\", ['Flight', 'Ship', 'Road'])\n",
    "calls = st.slider(\"Customer Care Calls\", 1, 10, 3)\n",
    "rating = st.slider(\"Customer Rating\", 1, 5, 4)\n",
    "cost = st.number_input(\"Cost of Product\", value=200)\n",
    "prior = st.number_input(\"Prior Purchases\", value=2)\n",
    "importance = st.selectbox(\"Product Importance\", ['low', 'medium', 'high'])\n",
    "gender = st.selectbox(\"Gender\", ['M', 'F'])\n",
    "discount = st.slider(\"Discount Offered (%)\", 0, 50, 10)\n",
    "weight = st.number_input(\"Weight (grams)\", value=1800)\n",
    "\n",
    "# Prediction\n",
    "if st.button(\"Predict\"):\n",
    "    # Feature Engineering\n",
    "    cost_rating_ratio = cost / rating if rating != 0 else 0\n",
    "    volume_discount = (discount / cost) * 100 if cost != 0 else 0\n",
    "\n",
    "    # Dummy cluster assignment (You should use actual clustering model if needed)\n",
    "    cluster = 0  # Replace with logic if you used a clustering model\n",
    "\n",
    "    # Create DataFrame\n",
    "    input_df = pd.DataFrame([{\n",
    "        'Warehouse_block': warehouse,\n",
    "        'Mode_of_Shipment': mode,\n",
    "        'Customer_care_calls': calls,\n",
    "        'Customer_rating': rating,\n",
    "        'Cost_of_the_Product': cost,\n",
    "        'Prior_purchases': prior,\n",
    "        'Product_importance': importance,\n",
    "        'Gender': gender,\n",
    "        'Discount_offered': discount,\n",
    "        'Weight_in_gms': weight,\n",
    "        'cost_rating_ratio': cost_rating_ratio,\n",
    "        'volume_discount': volume_discount,\n",
    "        'cluster': cluster\n",
    "    }])\n",
    "\n",
    "    # Encode categorical features manually\n",
    "    mapping_dict = {\n",
    "        'Warehouse_block': {'A': 0, 'B': 1, 'C': 2, 'D': 3, 'F': 4},\n",
    "        'Mode_of_Shipment': {'Flight': 0, 'Ship': 1, 'Road': 2},\n",
    "        'Product_importance': {'low': 0, 'medium': 1, 'high': 2},\n",
    "        'Gender': {'M': 0, 'F': 1}\n",
    "    }\n",
    "\n",
    "    for col in mapping_dict:\n",
    "        input_df[col] = input_df[col].map(mapping_dict[col])\n",
    "\n",
    "    # Predict\n",
    "    prediction = model.predict(input_df)[0]\n",
    "    result = \"✅ On-Time Delivery\" if prediction == 1 else \"❌ Delayed Delivery\"\n",
    "    st.subheader(\"Prediction Result:\")\n",
    "    st.success(result)"
   ]
  },
  {
   "cell_type": "code",
   "execution_count": null,
   "metadata": {
    "id": "l8dma9pp8BUT"
   },
   "outputs": [],
   "source": []
  }
 ],
 "metadata": {
  "colab": {
   "authorship_tag": "ABX9TyNcAcYmNl6KqJAKGcY5xZ+Y",
   "mount_file_id": "1Bftn5aNlNqen7XzPX-tlFQVWtYPK4ZCv",
   "name": "",
   "version": ""
  },
  "kernelspec": {
   "display_name": "Python 3 (ipykernel)",
   "language": "python",
   "name": "python3"
  },
  "language_info": {
   "codemirror_mode": {
    "name": "ipython",
    "version": 3
   },
   "file_extension": ".py",
   "mimetype": "text/x-python",
   "name": "python",
   "nbconvert_exporter": "python",
   "pygments_lexer": "ipython3",
   "version": "3.12.9"
  }
 },
 "nbformat": 4,
 "nbformat_minor": 4
}
